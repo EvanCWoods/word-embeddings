{
  "nbformat": 4,
  "nbformat_minor": 0,
  "metadata": {
    "colab": {
      "name": "Untitled4.ipynb",
      "provenance": [],
      "authorship_tag": "ABX9TyOR0PB+EivVL8vIL4zT9utn"
    },
    "kernelspec": {
      "name": "python3",
      "display_name": "Python 3"
    },
    "language_info": {
      "name": "python"
    }
  },
  "cells": [
    {
      "cell_type": "code",
      "metadata": {
        "id": "Hj_hX7NeNq96"
      },
      "source": [
        "import tensorflow as tf\n",
        "import numpy as np\n",
        "from tensorflow.keras.preprocessing.text import one_hot"
      ],
      "execution_count": 1,
      "outputs": []
    },
    {
      "cell_type": "code",
      "metadata": {
        "colab": {
          "base_uri": "https://localhost:8080/"
        },
        "id": "xebKs4ZpN0Bc",
        "outputId": "7fbcc5fd-6873-48c7-bdb4-b77aadfc1f70"
      },
      "source": [
        "imdb = tf.keras.datasets.imdb\n",
        "(train_data, train_labels), (test_data, test_labels) = imdb.load_data(num_words=10000)"
      ],
      "execution_count": 2,
      "outputs": [
        {
          "output_type": "stream",
          "text": [
            "<string>:6: VisibleDeprecationWarning: Creating an ndarray from ragged nested sequences (which is a list-or-tuple of lists-or-tuples-or ndarrays with different lengths or shapes) is deprecated. If you meant to do this, you must specify 'dtype=object' when creating the ndarray\n",
            "/usr/local/lib/python3.7/dist-packages/tensorflow/python/keras/datasets/imdb.py:155: VisibleDeprecationWarning: Creating an ndarray from ragged nested sequences (which is a list-or-tuple of lists-or-tuples-or ndarrays with different lengths or shapes) is deprecated. If you meant to do this, you must specify 'dtype=object' when creating the ndarray\n",
            "  x_train, y_train = np.array(xs[:idx]), np.array(labels[:idx])\n",
            "/usr/local/lib/python3.7/dist-packages/tensorflow/python/keras/datasets/imdb.py:156: VisibleDeprecationWarning: Creating an ndarray from ragged nested sequences (which is a list-or-tuple of lists-or-tuples-or ndarrays with different lengths or shapes) is deprecated. If you meant to do this, you must specify 'dtype=object' when creating the ndarray\n",
            "  x_test, y_test = np.array(xs[idx:]), np.array(labels[idx:])\n"
          ],
          "name": "stderr"
        }
      ]
    },
    {
      "cell_type": "code",
      "metadata": {
        "colab": {
          "base_uri": "https://localhost:8080/"
        },
        "id": "UqvB6ZWXOqXT",
        "outputId": "55b22493-29cd-4649-85ab-8ef4393529c7"
      },
      "source": [
        "print(train_data[0])\n",
        "print(train_labels[0])"
      ],
      "execution_count": 3,
      "outputs": [
        {
          "output_type": "stream",
          "text": [
            "[1, 14, 22, 16, 43, 530, 973, 1622, 1385, 65, 458, 4468, 66, 3941, 4, 173, 36, 256, 5, 25, 100, 43, 838, 112, 50, 670, 2, 9, 35, 480, 284, 5, 150, 4, 172, 112, 167, 2, 336, 385, 39, 4, 172, 4536, 1111, 17, 546, 38, 13, 447, 4, 192, 50, 16, 6, 147, 2025, 19, 14, 22, 4, 1920, 4613, 469, 4, 22, 71, 87, 12, 16, 43, 530, 38, 76, 15, 13, 1247, 4, 22, 17, 515, 17, 12, 16, 626, 18, 2, 5, 62, 386, 12, 8, 316, 8, 106, 5, 4, 2223, 5244, 16, 480, 66, 3785, 33, 4, 130, 12, 16, 38, 619, 5, 25, 124, 51, 36, 135, 48, 25, 1415, 33, 6, 22, 12, 215, 28, 77, 52, 5, 14, 407, 16, 82, 2, 8, 4, 107, 117, 5952, 15, 256, 4, 2, 7, 3766, 5, 723, 36, 71, 43, 530, 476, 26, 400, 317, 46, 7, 4, 2, 1029, 13, 104, 88, 4, 381, 15, 297, 98, 32, 2071, 56, 26, 141, 6, 194, 7486, 18, 4, 226, 22, 21, 134, 476, 26, 480, 5, 144, 30, 5535, 18, 51, 36, 28, 224, 92, 25, 104, 4, 226, 65, 16, 38, 1334, 88, 12, 16, 283, 5, 16, 4472, 113, 103, 32, 15, 16, 5345, 19, 178, 32]\n",
            "1\n"
          ],
          "name": "stdout"
        }
      ]
    },
    {
      "cell_type": "code",
      "metadata": {
        "id": "MOq5BIgGRNYx"
      },
      "source": [
        "VOCAB_SIZE = 10000\n",
        "MAX_LEN = 256\n",
        "EMBEDDING_VECTOR_SIZE = 5"
      ],
      "execution_count": 4,
      "outputs": []
    },
    {
      "cell_type": "code",
      "metadata": {
        "id": "0UaF4W22SBl_"
      },
      "source": [
        "train_data = tf.keras.preprocessing.sequence.pad_sequences(train_data,\n",
        "                                                           maxlen=MAX_LEN,\n",
        "                                                           padding='post')\n",
        "test_data = tf.keras.preprocessing.sequence.pad_sequences(test_data,\n",
        "                                                          maxlen=MAX_LEN,\n",
        "                                                          padding='post')"
      ],
      "execution_count": 5,
      "outputs": []
    },
    {
      "cell_type": "code",
      "metadata": {
        "colab": {
          "base_uri": "https://localhost:8080/"
        },
        "id": "KwmrMqt9WWwc",
        "outputId": "31b7f28c-bbd0-45f3-c8c7-62d0a24d07a8"
      },
      "source": [
        "print(train_labels[0].shape)\n",
        "print(test_data[0].shape)"
      ],
      "execution_count": 6,
      "outputs": [
        {
          "output_type": "stream",
          "text": [
            "()\n",
            "(256,)\n"
          ],
          "name": "stdout"
        }
      ]
    },
    {
      "cell_type": "code",
      "metadata": {
        "colab": {
          "base_uri": "https://localhost:8080/"
        },
        "id": "37AmnZ99S6w9",
        "outputId": "959b9fc8-e302-44d4-fadb-e16c3d360d76"
      },
      "source": [
        "model = tf.keras.Sequential([\n",
        "  tf.keras.layers.Embedding(VOCAB_SIZE, \n",
        "                            EMBEDDING_VECTOR_SIZE, \n",
        "                            input_length=MAX_LEN,\n",
        "                            name='embedding'),\n",
        "  tf.keras.layers.Flatten(),\n",
        "  tf.keras.layers.Dense(1, activation='sigmoid')\n",
        "])\n",
        "\n",
        "model.compile(loss='binary_crossentropy',\n",
        "              optimizer='adam',\n",
        "              metrics=['accuracy'])\n",
        "\n",
        "history = model.fit(train_data,\n",
        "                    train_labels,\n",
        "                    epochs=10,\n",
        "                    validation_data=(test_data, test_labels))"
      ],
      "execution_count": 7,
      "outputs": [
        {
          "output_type": "stream",
          "text": [
            "Epoch 1/10\n",
            "782/782 [==============================] - 4s 4ms/step - loss: 0.5793 - accuracy: 0.6808 - val_loss: 0.3720 - val_accuracy: 0.8503\n",
            "Epoch 2/10\n",
            "782/782 [==============================] - 3s 4ms/step - loss: 0.2875 - accuracy: 0.8885 - val_loss: 0.2941 - val_accuracy: 0.8789\n",
            "Epoch 3/10\n",
            "782/782 [==============================] - 2s 3ms/step - loss: 0.2099 - accuracy: 0.9224 - val_loss: 0.2838 - val_accuracy: 0.8814\n",
            "Epoch 4/10\n",
            "782/782 [==============================] - 3s 4ms/step - loss: 0.1677 - accuracy: 0.9433 - val_loss: 0.2919 - val_accuracy: 0.8773\n",
            "Epoch 5/10\n",
            "782/782 [==============================] - 3s 4ms/step - loss: 0.1365 - accuracy: 0.9564 - val_loss: 0.3034 - val_accuracy: 0.8758\n",
            "Epoch 6/10\n",
            "782/782 [==============================] - 2s 3ms/step - loss: 0.1107 - accuracy: 0.9673 - val_loss: 0.3220 - val_accuracy: 0.8729\n",
            "Epoch 7/10\n",
            "782/782 [==============================] - 2s 3ms/step - loss: 0.0883 - accuracy: 0.9766 - val_loss: 0.3444 - val_accuracy: 0.8680\n",
            "Epoch 8/10\n",
            "782/782 [==============================] - 3s 4ms/step - loss: 0.0687 - accuracy: 0.9850 - val_loss: 0.3621 - val_accuracy: 0.8644\n",
            "Epoch 9/10\n",
            "782/782 [==============================] - 2s 3ms/step - loss: 0.0526 - accuracy: 0.9900 - val_loss: 0.3881 - val_accuracy: 0.8618\n",
            "Epoch 10/10\n",
            "782/782 [==============================] - 2s 3ms/step - loss: 0.0397 - accuracy: 0.9941 - val_loss: 0.4098 - val_accuracy: 0.8607\n"
          ],
          "name": "stdout"
        }
      ]
    },
    {
      "cell_type": "code",
      "metadata": {
        "id": "753yKeUVU42O"
      },
      "source": [
        "import matplotlib.pyplot as plt\n",
        "def show_results(history, metric):\n",
        "  plt.title(f'model {metric}')\n",
        "  plt.xlabel('Epochs')\n",
        "  plt.ylabel(f'{metric} vs val_{metric}')\n",
        "  plt.plot(history.history[metric], c='b', label=metric)\n",
        "  plt.plot(history.history[f'val_{metric}'], c='g', label=f'val_{metric}')\n",
        "  plt.legend()"
      ],
      "execution_count": 26,
      "outputs": []
    },
    {
      "cell_type": "code",
      "metadata": {
        "colab": {
          "base_uri": "https://localhost:8080/",
          "height": 295
        },
        "id": "diFDEkC3lR5A",
        "outputId": "74c448ad-82c1-49fa-d7cb-121d81566f9b"
      },
      "source": [
        "show_results(history=history, metric='accuracy')"
      ],
      "execution_count": 27,
      "outputs": [
        {
          "output_type": "display_data",
          "data": {
            "image/png": "[encoded data removed]",
            "text/plain": [
              "<Figure size 432x288 with 1 Axes>"
            ]
          },
          "metadata": {
            "tags": [],
            "needs_background": "light"
          }
        }
      ]
    },
    {
      "cell_type": "code",
      "metadata": {
        "id": "HEGSYmjMlV7U"
      },
      "source": [
        "weights = model.get_layer('embedding').get_weights()[0]"
      ],
      "execution_count": 36,
      "outputs": []
    },
    {
      "cell_type": "code",
      "metadata": {
        "colab": {
          "base_uri": "https://localhost:8080/"
        },
        "id": "j7ZOl-69l-2n",
        "outputId": "31401421-c9c3-4815-c921-25cf9eaaa46f"
      },
      "source": [
        "weights[10]"
      ],
      "execution_count": 40,
      "outputs": [
        {
          "output_type": "execute_result",
          "data": {
            "text/plain": [
              "array([0.04632135, 0.01417478, 0.00378654, 0.04731134, 0.05453973],\n",
              "      dtype=float32)"
            ]
          },
          "metadata": {
            "tags": []
          },
          "execution_count": 40
        }
      ]
    },
    {
      "cell_type": "code",
      "metadata": {
        "colab": {
          "base_uri": "https://localhost:8080/"
        },
        "id": "ykOQmTzfmK_d",
        "outputId": "39ae8b42-b143-4230-b35b-a21222d397e5"
      },
      "source": [
        "weights[1]"
      ],
      "execution_count": 38,
      "outputs": [
        {
          "output_type": "execute_result",
          "data": {
            "text/plain": [
              "array([ 0.08813736,  0.06581154,  0.01816791, -0.03774164, -0.06499389],\n",
              "      dtype=float32)"
            ]
          },
          "metadata": {
            "tags": []
          },
          "execution_count": 38
        }
      ]
    },
    {
      "cell_type": "code",
      "metadata": {
        "colab": {
          "base_uri": "https://localhost:8080/"
        },
        "id": "3QPAQuEImXNw",
        "outputId": "b4c1ae6f-afba-4ec6-dbe1-a2744323cf87"
      },
      "source": [
        "len(weights)"
      ],
      "execution_count": 39,
      "outputs": [
        {
          "output_type": "execute_result",
          "data": {
            "text/plain": [
              "10000"
            ]
          },
          "metadata": {
            "tags": []
          },
          "execution_count": 39
        }
      ]
    },
    {
      "cell_type": "code",
      "metadata": {
        "id": "a8pwyEqTnTZO"
      },
      "source": [
        ""
      ],
      "execution_count": null,
      "outputs": []
    }
  ]
}